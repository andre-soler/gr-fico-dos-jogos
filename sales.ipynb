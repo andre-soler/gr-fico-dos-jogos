import pandas as pd
import numpy as np
import matplotlib. pyplot as plt
import seaborn as sns
print("Verificando dados")
text_file = pd.read_csv('vgsales.csv',  encoding = 'utf-8')
df = text_file
df.info()
df.describe()
media_vendas = df['Global_Sales'].mean()
print("A média de vendas é", media_vendas)
#Verificando quais foram os mais vendidos 

df_sorted = df.sort_values(by='Global_Sales', ascending=False)
top_n = 10
top_games = df_sorted.head(top_n)
#Plotando Gráfico
plt.figure(figsize=(12,8))
bars = plt.barh(top_games['Name'], top_games['Global_Sales'], color='skyblue')

# Adiciona rótulos de valor em cada barra
for bar in bars:
    plt.text(bar.get_width(), bar.get_y() + bar.get_height() / 2, '{:.2f}'.format(bar.get_width()), 
             va='center', ha='left', fontsize=10, color='black')

plt.xlabel('Vendas Globais (milhões)', fontsize=12)
plt.ylabel('Jogos', fontsize=12)
plt.title(f'Top {top_n} Jogos com Mais Vendas', fontsize=14)
plt.gca().invert_yaxis()  # Inverte o eixo y para que o jogo com mais vendas fique no topo
plt.xticks(fontsize=10)
plt.yticks(fontsize=10)
plt.tight_layout()
plt.show()
